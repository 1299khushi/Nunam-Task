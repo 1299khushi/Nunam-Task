{
  "nbformat": 4,
  "nbformat_minor": 0,
  "metadata": {
    "accelerator": "GPU",
    "colab": {
      "name": "NUNAM TASK1.ipynb",
      "provenance": [],
      "collapsed_sections": [],
      "mount_file_id": "1oX0wgE2Qx6PhBgx7WBJi_vEV0WUwaMMw",
      "authorship_tag": "ABX9TyNibyO3+EHyrQgWytbozK6e",
      "include_colab_link": true
    },
    "kernelspec": {
      "display_name": "Python 3",
      "name": "python3"
    },
    "language_info": {
      "name": "python"
    }
  },
  "cells": [
    {
      "cell_type": "markdown",
      "metadata": {
        "id": "view-in-github",
        "colab_type": "text"
      },
      "source": [
        "<a href=\"https://colab.research.google.com/github/1299khushi/Nunam-Task/blob/main/NUNAM_TASK1.ipynb\" target=\"_parent\"><img src=\"https://colab.research.google.com/assets/colab-badge.svg\" alt=\"Open In Colab\"/></a>"
      ]
    },
    {
      "cell_type": "code",
      "metadata": {
        "id": "msrrfebKHjtn"
      },
      "source": [
        "\n",
        "\n",
        "\n",
        "\n",
        "import pandas as pd                               #pandas provide easy data manipulation\n",
        "\n",
        "\n",
        "det=[]                                             #creating 3 lists for storing all sheets in 3 major category\n",
        "vol=[]\n",
        "tem=[]\n",
        "\n",
        "\n",
        "\n",
        "for i in range(20):                                   # 20 sheets in data.xlsx\n",
        "                                                  \n",
        "  u=pd.read_excel(\"/content/drive/MyDrive/Colab Notebooks/data.xlsx\", index_col=0, sheet_name=i)   \n",
        "\n",
        "                                                         # using dataframe u to fetch sheets and store it our lists      \n",
        "\n",
        "  if(i>2 and i<10):                                       #the sheets from 3 to 9 will go in det list\n",
        "    det.append(u)\n",
        "  if(i>9 and i<17):                                       #the sheets from 11 to 16 will go in det list\n",
        "    vol.append(u)\n",
        "  if(i>16):                                               #the sheets from 17 to 20 will go in det list\n",
        "    tem.append(u)                                          \n",
        "\n",
        "for i in range(4):                                        #some sheets of temp were in second xlsx, loading them in tem\n",
        "  u=pd.read_excel(\"/content/drive/MyDrive/Colab Notebooks/data_1.xlsx\", index_col=0, sheet_name=i)\n",
        "  tem.append(u)                                                    \n",
        "\n",
        "\n",
        "\n",
        "\n",
        "# for i in range(0,len(det):                    #this code can be used to check data\n",
        "#   print('-'*100)\n",
        "#   print(i)\n",
        "#   print('-'*100)\n",
        "#   print(det[i])\n",
        "\n",
        "\n",
        "df_det=pd.concat(det)                             #all sheets in  respective list are combined to form their dataframe\n",
        "df_vol=pd.concat(vol)\n",
        "df_tem=pd.concat(tem)\n",
        "\n",
        "\n",
        "\n",
        "                         #dataframe exported as csv file (which will be created next to code and data, in same folder), with designated names\n",
        "\n",
        "\n",
        "df_det.to_csv(\"/content/drive/MyDrive/Colab Notebooks/detail.csv\")      \n",
        "df_vol.to_csv(\"/content/drive/MyDrive/Colab Notebooks/detailVol.csv\")   \n",
        "df_tem.to_csv(\"/content/drive/MyDrive/Colab Notebooks/detailTemp.csv\")\n",
        "\n",
        "\n"
      ],
      "execution_count": null,
      "outputs": []
    },
    {
      "cell_type": "code",
      "metadata": {
        "colab": {
          "base_uri": "https://localhost:8080/"
        },
        "id": "_gKtD-8aKKHi",
        "outputId": "677dd2a2-c038-4ec2-faf7-cc2bd48773d5"
      },
      "source": [
        "\n",
        "for i in range(0,len(det)):                    #this code can be used to check data\n",
        "  print('-'*100)\n",
        "  print(i)\n",
        "  print('-'*100)\n",
        "  print(det[i])"
      ],
      "execution_count": null,
      "outputs": [
        {
          "output_type": "stream",
          "text": [
            "----------------------------------------------------------------------------------------------------\n",
            "0\n",
            "----------------------------------------------------------------------------------------------------\n",
            "                 Status  JumpTo  ...  Relative Time(h:min:s.ms)       Absolute Time\n",
            "Record Index                     ...                                               \n",
            "1                  Rest       1  ...                0:00:00.000 2020-10-10 20:03:39\n",
            "2                  Rest       1  ...                0:00:01.000 2020-10-10 20:03:40\n",
            "3                  Rest       1  ...                0:00:02.000 2020-10-10 20:03:41\n",
            "4                  Rest       1  ...                0:00:03.000 2020-10-10 20:03:42\n",
            "5                  Rest       1  ...                0:00:04.000 2020-10-10 20:03:43\n",
            "...                 ...     ...  ...                        ...                 ...\n",
            "65531         CCCV_DChg      19  ...                1:44:03.000 2020-10-11 14:15:30\n",
            "65532         CCCV_DChg      19  ...                1:44:04.000 2020-10-11 14:15:31\n",
            "65533         CCCV_DChg      19  ...                1:44:05.000 2020-10-11 14:15:32\n",
            "65534         CCCV_DChg      19  ...                1:44:06.000 2020-10-11 14:15:33\n",
            "65535         CCCV_DChg      19  ...                1:44:07.000 2020-10-11 14:15:34\n",
            "\n",
            "[65535 rows x 10 columns]\n",
            "----------------------------------------------------------------------------------------------------\n",
            "1\n",
            "----------------------------------------------------------------------------------------------------\n",
            "                 Status  JumpTo  ...  Relative Time(h:min:s.ms)       Absolute Time\n",
            "Record Index                     ...                                               \n",
            "65536         CCCV_DChg      19  ...                1:44:08.000 2020-10-11 14:15:35\n",
            "65537         CCCV_DChg      19  ...                1:44:09.000 2020-10-11 14:15:36\n",
            "65538         CCCV_DChg      19  ...                1:44:10.000 2020-10-11 14:15:37\n",
            "65539         CCCV_DChg      19  ...                1:44:11.000 2020-10-11 14:15:38\n",
            "65540         CCCV_DChg      19  ...                1:44:12.000 2020-10-11 14:15:39\n",
            "...                 ...     ...  ...                        ...                 ...\n",
            "131066        CCCV_DChg      34  ...                0:53:17.000 2020-10-12 08:27:28\n",
            "131067        CCCV_DChg      34  ...                0:53:18.000 2020-10-12 08:27:29\n",
            "131068        CCCV_DChg      34  ...                0:53:19.000 2020-10-12 08:27:30\n",
            "131069        CCCV_DChg      34  ...                0:53:20.000 2020-10-12 08:27:31\n",
            "131070        CCCV_DChg      34  ...                0:53:21.000 2020-10-12 08:27:32\n",
            "\n",
            "[65535 rows x 10 columns]\n",
            "----------------------------------------------------------------------------------------------------\n",
            "2\n",
            "----------------------------------------------------------------------------------------------------\n",
            "                 Status  JumpTo  ...  Relative Time(h:min:s.ms)       Absolute Time\n",
            "Record Index                     ...                                               \n",
            "131071        CCCV_DChg      34  ...                0:53:22.000 2020-10-12 08:27:33\n",
            "131072        CCCV_DChg      34  ...                0:53:23.000 2020-10-12 08:27:34\n",
            "131073        CCCV_DChg      34  ...                0:53:24.000 2020-10-12 08:27:35\n",
            "131074        CCCV_DChg      34  ...                0:53:25.000 2020-10-12 08:27:36\n",
            "131075        CCCV_DChg      34  ...                0:53:26.000 2020-10-12 08:27:37\n",
            "...                 ...     ...  ...                        ...                 ...\n",
            "196601        CCCV_DChg      49  ...                0:04:05.000 2020-10-13 02:39:27\n",
            "196602        CCCV_DChg      49  ...                0:04:06.000 2020-10-13 02:39:28\n",
            "196603        CCCV_DChg      49  ...                0:04:07.000 2020-10-13 02:39:29\n",
            "196604        CCCV_DChg      49  ...                0:04:08.000 2020-10-13 02:39:30\n",
            "196605        CCCV_DChg      49  ...                0:04:09.000 2020-10-13 02:39:31\n",
            "\n",
            "[65535 rows x 10 columns]\n",
            "----------------------------------------------------------------------------------------------------\n",
            "3\n",
            "----------------------------------------------------------------------------------------------------\n",
            "                 Status  JumpTo  ...  Relative Time(h:min:s.ms)       Absolute Time\n",
            "Record Index                     ...                                               \n",
            "196606        CCCV_DChg      49  ...                0:04:10.000 2020-10-13 02:39:32\n",
            "196607        CCCV_DChg      49  ...                0:04:11.000 2020-10-13 02:39:33\n",
            "196608        CCCV_DChg      49  ...                0:04:12.000 2020-10-13 02:39:34\n",
            "196609        CCCV_DChg      49  ...                0:04:13.000 2020-10-13 02:39:35\n",
            "196610        CCCV_DChg      49  ...                0:04:14.000 2020-10-13 02:39:36\n",
            "...                 ...     ...  ...                        ...                 ...\n",
            "262136         CCCV_Chg      62  ...                2:41:26.000 2020-10-13 20:51:29\n",
            "262137         CCCV_Chg      62  ...                2:41:27.000 2020-10-13 20:51:30\n",
            "262138         CCCV_Chg      62  ...                2:41:28.000 2020-10-13 20:51:31\n",
            "262139         CCCV_Chg      62  ...                2:41:29.000 2020-10-13 20:51:32\n",
            "262140         CCCV_Chg      62  ...                2:41:30.000 2020-10-13 20:51:33\n",
            "\n",
            "[65535 rows x 10 columns]\n",
            "----------------------------------------------------------------------------------------------------\n",
            "4\n",
            "----------------------------------------------------------------------------------------------------\n",
            "                Status  JumpTo  ...  Relative Time(h:min:s.ms)       Absolute Time\n",
            "Record Index                    ...                                               \n",
            "262141        CCCV_Chg      62  ...                2:41:31.000 2020-10-13 20:51:34\n",
            "262142        CCCV_Chg      62  ...                2:41:32.000 2020-10-13 20:51:35\n",
            "262143        CCCV_Chg      62  ...                2:41:33.000 2020-10-13 20:51:36\n",
            "262144        CCCV_Chg      62  ...                2:41:34.000 2020-10-13 20:51:37\n",
            "262145        CCCV_Chg      62  ...                2:41:35.000 2020-10-13 20:51:38\n",
            "...                ...     ...  ...                        ...                 ...\n",
            "369624        CCCV_Chg      87  ...                0:54:32.000 2020-10-15 02:42:31\n",
            "369625        CCCV_Chg      87  ...                0:54:33.000 2020-10-15 02:42:32\n",
            "369626        CCCV_Chg      87  ...                0:54:34.000 2020-10-15 02:42:33\n",
            "369627        CCCV_Chg      87  ...                0:54:35.000 2020-10-15 02:42:34\n",
            "369628        CCCV_Chg      87  ...                0:54:36.000 2020-10-15 02:42:35\n",
            "\n",
            "[65535 rows x 10 columns]\n",
            "----------------------------------------------------------------------------------------------------\n",
            "5\n",
            "----------------------------------------------------------------------------------------------------\n",
            "                Status  JumpTo  ...  Relative Time(h:min:s.ms)       Absolute Time\n",
            "Record Index                    ...                                               \n",
            "369629        CCCV_Chg      87  ...                0:54:37.000 2020-10-15 02:42:36\n",
            "369630        CCCV_Chg      87  ...                0:54:38.000 2020-10-15 02:42:37\n",
            "369631        CCCV_Chg      87  ...                0:54:39.000 2020-10-15 02:42:38\n",
            "369632        CCCV_Chg      87  ...                0:54:40.000 2020-10-15 02:42:39\n",
            "369633        CCCV_Chg      87  ...                0:54:41.000 2020-10-15 02:42:40\n",
            "...                ...     ...  ...                        ...                 ...\n",
            "435159        CCCV_Chg     102  ...                0:08:42.000 2020-10-15 20:54:31\n",
            "435160        CCCV_Chg     102  ...                0:08:43.000 2020-10-15 20:54:32\n",
            "435161        CCCV_Chg     102  ...                0:08:44.000 2020-10-15 20:54:33\n",
            "435162        CCCV_Chg     102  ...                0:08:45.000 2020-10-15 20:54:34\n",
            "435163        CCCV_Chg     102  ...                0:08:46.000 2020-10-15 20:54:35\n",
            "\n",
            "[65535 rows x 10 columns]\n",
            "----------------------------------------------------------------------------------------------------\n",
            "6\n",
            "----------------------------------------------------------------------------------------------------\n",
            "                Status  JumpTo  ...  Relative Time(h:min:s.ms)       Absolute Time\n",
            "Record Index                    ...                                               \n",
            "435164        CCCV_Chg     102  ...                0:08:47.000 2020-10-15 20:54:36\n",
            "435165        CCCV_Chg     102  ...                0:08:48.000 2020-10-15 20:54:37\n",
            "435166        CCCV_Chg     102  ...                0:08:49.000 2020-10-15 20:54:38\n",
            "435167        CCCV_Chg     102  ...                0:08:50.000 2020-10-15 20:54:39\n",
            "435168        CCCV_Chg     102  ...                0:08:51.000 2020-10-15 20:54:40\n",
            "...                ...     ...  ...                        ...                 ...\n",
            "458630            Rest     108  ...                0:09:56.000 2020-10-16 03:25:35\n",
            "458631            Rest     108  ...                0:09:57.000 2020-10-16 03:25:36\n",
            "458632            Rest     108  ...                0:09:58.000 2020-10-16 03:25:37\n",
            "458633            Rest     108  ...                0:09:59.000 2020-10-16 03:25:38\n",
            "458634            Rest     108  ...                0:10:00.000 2020-10-16 03:25:39\n",
            "\n",
            "[23471 rows x 10 columns]\n"
          ],
          "name": "stdout"
        }
      ]
    },
    {
      "cell_type": "code",
      "metadata": {
        "id": "5dV4k-pnK40B",
        "colab": {
          "base_uri": "https://localhost:8080/"
        },
        "outputId": "495946b0-8cf7-4d00-8c60-70a2ae05d34a"
      },
      "source": [
        "import datetime\n",
        "print(datetime.datetime.now())"
      ],
      "execution_count": null,
      "outputs": [
        {
          "output_type": "stream",
          "text": [
            "2021-06-13 13:31:14.443027\n"
          ],
          "name": "stdout"
        }
      ]
    },
    {
      "cell_type": "code",
      "metadata": {
        "id": "EB5_h761OmeM"
      },
      "source": [
        "                                    "
      ],
      "execution_count": null,
      "outputs": []
    },
    {
      "cell_type": "code",
      "metadata": {
        "colab": {
          "background_save": true
        },
        "id": "PltygTQBQ4B6"
      },
      "source": [
        ""
      ],
      "execution_count": null,
      "outputs": []
    },
    {
      "cell_type": "code",
      "metadata": {
        "id": "z4CTYl-aQ-PK"
      },
      "source": [
        "u=pd.read_excel(\"/content/drive/MyDrive/Colab Notebooks/data_1.xlsx\", index_col=0, sheet_name=3) "
      ],
      "execution_count": null,
      "outputs": []
    },
    {
      "cell_type": "code",
      "metadata": {
        "colab": {
          "base_uri": "https://localhost:8080/",
          "height": 450
        },
        "id": "F2gwnFs5mp3L",
        "outputId": "cb3af8dd-e357-4bd6-8e11-51e615b7ff74"
      },
      "source": [
        "u\n"
      ],
      "execution_count": null,
      "outputs": [
        {
          "output_type": "execute_result",
          "data": {
            "text/html": [
              "<div>\n",
              "<style scoped>\n",
              "    .dataframe tbody tr th:only-of-type {\n",
              "        vertical-align: middle;\n",
              "    }\n",
              "\n",
              "    .dataframe tbody tr th {\n",
              "        vertical-align: top;\n",
              "    }\n",
              "\n",
              "    .dataframe thead th {\n",
              "        text-align: right;\n",
              "    }\n",
              "</style>\n",
              "<table border=\"1\" class=\"dataframe\">\n",
              "  <thead>\n",
              "    <tr style=\"text-align: right;\">\n",
              "      <th></th>\n",
              "      <th>Step Name</th>\n",
              "      <th>Relative Time(h:min:s.ms)</th>\n",
              "      <th>Realtime</th>\n",
              "      <th>Auxiliary channel TU1 T(°C)</th>\n",
              "      <th>Gap of Temperature</th>\n",
              "    </tr>\n",
              "    <tr>\n",
              "      <th>Record ID</th>\n",
              "      <th></th>\n",
              "      <th></th>\n",
              "      <th></th>\n",
              "      <th></th>\n",
              "      <th></th>\n",
              "    </tr>\n",
              "  </thead>\n",
              "  <tbody>\n",
              "    <tr>\n",
              "      <th>435164</th>\n",
              "      <td>CCCV_Chg</td>\n",
              "      <td>0:08:47.000</td>\n",
              "      <td>2020-10-15 20:54:36</td>\n",
              "      <td>28.4</td>\n",
              "      <td>0</td>\n",
              "    </tr>\n",
              "    <tr>\n",
              "      <th>435165</th>\n",
              "      <td>CCCV_Chg</td>\n",
              "      <td>0:08:48.000</td>\n",
              "      <td>2020-10-15 20:54:37</td>\n",
              "      <td>28.4</td>\n",
              "      <td>0</td>\n",
              "    </tr>\n",
              "    <tr>\n",
              "      <th>435166</th>\n",
              "      <td>CCCV_Chg</td>\n",
              "      <td>0:08:49.000</td>\n",
              "      <td>2020-10-15 20:54:38</td>\n",
              "      <td>28.4</td>\n",
              "      <td>0</td>\n",
              "    </tr>\n",
              "    <tr>\n",
              "      <th>435167</th>\n",
              "      <td>CCCV_Chg</td>\n",
              "      <td>0:08:50.000</td>\n",
              "      <td>2020-10-15 20:54:39</td>\n",
              "      <td>28.4</td>\n",
              "      <td>0</td>\n",
              "    </tr>\n",
              "    <tr>\n",
              "      <th>435168</th>\n",
              "      <td>CCCV_Chg</td>\n",
              "      <td>0:08:51.000</td>\n",
              "      <td>2020-10-15 20:54:40</td>\n",
              "      <td>28.4</td>\n",
              "      <td>0</td>\n",
              "    </tr>\n",
              "    <tr>\n",
              "      <th>...</th>\n",
              "      <td>...</td>\n",
              "      <td>...</td>\n",
              "      <td>...</td>\n",
              "      <td>...</td>\n",
              "      <td>...</td>\n",
              "    </tr>\n",
              "    <tr>\n",
              "      <th>458630</th>\n",
              "      <td>Rest</td>\n",
              "      <td>0:09:56.000</td>\n",
              "      <td>2020-10-16 03:25:35</td>\n",
              "      <td>28.4</td>\n",
              "      <td>0</td>\n",
              "    </tr>\n",
              "    <tr>\n",
              "      <th>458631</th>\n",
              "      <td>Rest</td>\n",
              "      <td>0:09:57.000</td>\n",
              "      <td>2020-10-16 03:25:36</td>\n",
              "      <td>28.4</td>\n",
              "      <td>0</td>\n",
              "    </tr>\n",
              "    <tr>\n",
              "      <th>458632</th>\n",
              "      <td>Rest</td>\n",
              "      <td>0:09:58.000</td>\n",
              "      <td>2020-10-16 03:25:37</td>\n",
              "      <td>28.4</td>\n",
              "      <td>0</td>\n",
              "    </tr>\n",
              "    <tr>\n",
              "      <th>458633</th>\n",
              "      <td>Rest</td>\n",
              "      <td>0:09:59.000</td>\n",
              "      <td>2020-10-16 03:25:38</td>\n",
              "      <td>28.4</td>\n",
              "      <td>0</td>\n",
              "    </tr>\n",
              "    <tr>\n",
              "      <th>458634</th>\n",
              "      <td>Rest</td>\n",
              "      <td>0:10:00.000</td>\n",
              "      <td>2020-10-16 03:25:39</td>\n",
              "      <td>28.4</td>\n",
              "      <td>0</td>\n",
              "    </tr>\n",
              "  </tbody>\n",
              "</table>\n",
              "<p>23471 rows × 5 columns</p>\n",
              "</div>"
            ],
            "text/plain": [
              "          Step Name  ... Gap of Temperature\n",
              "Record ID            ...                   \n",
              "435164     CCCV_Chg  ...                  0\n",
              "435165     CCCV_Chg  ...                  0\n",
              "435166     CCCV_Chg  ...                  0\n",
              "435167     CCCV_Chg  ...                  0\n",
              "435168     CCCV_Chg  ...                  0\n",
              "...             ...  ...                ...\n",
              "458630         Rest  ...                  0\n",
              "458631         Rest  ...                  0\n",
              "458632         Rest  ...                  0\n",
              "458633         Rest  ...                  0\n",
              "458634         Rest  ...                  0\n",
              "\n",
              "[23471 rows x 5 columns]"
            ]
          },
          "metadata": {
            "tags": []
          },
          "execution_count": 14
        }
      ]
    },
    {
      "cell_type": "code",
      "metadata": {
        "colab": {
          "base_uri": "https://localhost:8080/"
        },
        "id": "zt-CNGYemrOM",
        "outputId": "06556a4f-e978-4750-e1e0-f590e40776c8"
      },
      "source": [
        "i=0\n",
        "l=u[(\"Realtime\")].values\n",
        "a=l[0]\n",
        "p = pd.Period(\"2018-03-11 13:03:12.050000\")\n",
        "p.minute"
      ],
      "execution_count": null,
      "outputs": [
        {
          "output_type": "execute_result",
          "data": {
            "text/plain": [
              "3"
            ]
          },
          "metadata": {
            "tags": []
          },
          "execution_count": 39
        }
      ]
    },
    {
      "cell_type": "code",
      "metadata": {
        "id": "0f77BK9jpjTK"
      },
      "source": [
        "import datetime\n",
        "\n",
        "# x = datetime.datetime.now()\n",
        "# x-l[0]"
      ],
      "execution_count": null,
      "outputs": []
    },
    {
      "cell_type": "code",
      "metadata": {
        "colab": {
          "base_uri": "https://localhost:8080/"
        },
        "id": "fa0TiDz2pljt",
        "outputId": "51f428aa-7a34-4350-fed2-60667e613ba8"
      },
      "source": [
        "import numpy as np\n",
        "from datetime import datetime \n",
        "np.datetime64(a).astype(datetime)\n",
        "a.astype(datetime)"
      ],
      "execution_count": null,
      "outputs": [
        {
          "output_type": "execute_result",
          "data": {
            "text/plain": [
              "1602795276000000000"
            ]
          },
          "metadata": {
            "tags": []
          },
          "execution_count": 48
        }
      ]
    },
    {
      "cell_type": "code",
      "metadata": {
        "colab": {
          "base_uri": "https://localhost:8080/"
        },
        "id": "L8RAgUffsjSf",
        "outputId": "c9cf2a7e-3e97-4b6e-e1e5-02570355bb04"
      },
      "source": [
        "type(p)"
      ],
      "execution_count": null,
      "outputs": [
        {
          "output_type": "execute_result",
          "data": {
            "text/plain": [
              "pandas._libs.tslibs.period.Period"
            ]
          },
          "metadata": {
            "tags": []
          },
          "execution_count": 42
        }
      ]
    },
    {
      "cell_type": "code",
      "metadata": {
        "colab": {
          "base_uri": "https://localhost:8080/",
          "height": 163
        },
        "id": "AlvYNpXttJtb",
        "outputId": "79bfccef-84d5-4bb7-ef08-d10e034d4af5"
      },
      "source": [
        "l[0].year"
      ],
      "execution_count": null,
      "outputs": [
        {
          "output_type": "error",
          "ename": "AttributeError",
          "evalue": "ignored",
          "traceback": [
            "\u001b[0;31m---------------------------------------------------------------------------\u001b[0m",
            "\u001b[0;31mAttributeError\u001b[0m                            Traceback (most recent call last)",
            "\u001b[0;32m<ipython-input-34-11b2bd489c04>\u001b[0m in \u001b[0;36m<module>\u001b[0;34m()\u001b[0m\n\u001b[0;32m----> 1\u001b[0;31m \u001b[0ml\u001b[0m\u001b[0;34m[\u001b[0m\u001b[0;36m0\u001b[0m\u001b[0;34m]\u001b[0m\u001b[0;34m.\u001b[0m\u001b[0myear\u001b[0m\u001b[0;34m\u001b[0m\u001b[0;34m\u001b[0m\u001b[0m\n\u001b[0m",
            "\u001b[0;31mAttributeError\u001b[0m: 'numpy.datetime64' object has no attribute 'year'"
          ]
        }
      ]
    },
    {
      "cell_type": "code",
      "metadata": {
        "colab": {
          "base_uri": "https://localhost:8080/",
          "height": 299
        },
        "id": "FOwe592utUgq",
        "outputId": "ce83fc5a-2fc1-4418-af77-b32a7407964f"
      },
      "source": [
        "p = pd.l[0]\n",
        "p.minute\n"
      ],
      "execution_count": null,
      "outputs": [
        {
          "output_type": "error",
          "ename": "AttributeError",
          "evalue": "ignored",
          "traceback": [
            "\u001b[0;31m---------------------------------------------------------------------------\u001b[0m",
            "\u001b[0;31mAttributeError\u001b[0m                            Traceback (most recent call last)",
            "\u001b[0;32m<ipython-input-37-f429f5a8a478>\u001b[0m in \u001b[0;36m<module>\u001b[0;34m()\u001b[0m\n\u001b[0;32m----> 1\u001b[0;31m \u001b[0mp\u001b[0m \u001b[0;34m=\u001b[0m \u001b[0mpd\u001b[0m\u001b[0;34m.\u001b[0m\u001b[0ml\u001b[0m\u001b[0;34m[\u001b[0m\u001b[0;36m0\u001b[0m\u001b[0;34m]\u001b[0m\u001b[0;34m\u001b[0m\u001b[0;34m\u001b[0m\u001b[0m\n\u001b[0m\u001b[1;32m      2\u001b[0m \u001b[0mp\u001b[0m\u001b[0;34m.\u001b[0m\u001b[0mminute\u001b[0m\u001b[0;34m\u001b[0m\u001b[0;34m\u001b[0m\u001b[0m\n",
            "\u001b[0;32m/usr/local/lib/python3.7/dist-packages/pandas/__init__.py\u001b[0m in \u001b[0;36m__getattr__\u001b[0;34m(name)\u001b[0m\n\u001b[1;32m    256\u001b[0m             \u001b[0;32mreturn\u001b[0m \u001b[0m_SparseArray\u001b[0m\u001b[0;34m\u001b[0m\u001b[0;34m\u001b[0m\u001b[0m\n\u001b[1;32m    257\u001b[0m \u001b[0;34m\u001b[0m\u001b[0m\n\u001b[0;32m--> 258\u001b[0;31m         \u001b[0;32mraise\u001b[0m \u001b[0mAttributeError\u001b[0m\u001b[0;34m(\u001b[0m\u001b[0;34mf\"module 'pandas' has no attribute '{name}'\"\u001b[0m\u001b[0;34m)\u001b[0m\u001b[0;34m\u001b[0m\u001b[0;34m\u001b[0m\u001b[0m\n\u001b[0m\u001b[1;32m    259\u001b[0m \u001b[0;34m\u001b[0m\u001b[0m\n\u001b[1;32m    260\u001b[0m \u001b[0;34m\u001b[0m\u001b[0m\n",
            "\u001b[0;31mAttributeError\u001b[0m: module 'pandas' has no attribute 'l'"
          ]
        }
      ]
    },
    {
      "cell_type": "code",
      "metadata": {
        "id": "gSe7zoekuk5v"
      },
      "source": [
        ""
      ],
      "execution_count": null,
      "outputs": []
    }
  ]
}